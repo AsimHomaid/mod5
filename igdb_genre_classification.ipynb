{
 "cells": [
  {
   "cell_type": "markdown",
   "metadata": {},
   "source": [
    "# Import libraries"
   ]
  },
  {
   "cell_type": "code",
   "execution_count": null,
   "metadata": {},
   "outputs": [],
   "source": [
    "import requests\n",
    "import pandas as pd\n",
    "import pymongo"
   ]
  },
  {
   "cell_type": "markdown",
   "metadata": {},
   "source": [
    "# Setup MongoDB client and prepare it for storing requests"
   ]
  },
  {
   "cell_type": "code",
   "execution_count": null,
   "metadata": {},
   "outputs": [],
   "source": [
    "mc = pymongo.MongoClient()"
   ]
  },
  {
   "cell_type": "code",
   "execution_count": null,
   "metadata": {},
   "outputs": [],
   "source": [
    "db = mc['games']\n"
   ]
  },
  {
   "cell_type": "code",
   "execution_count": null,
   "metadata": {},
   "outputs": [],
   "source": [
    "ig_data = db['ig_data']"
   ]
  },
  {
   "cell_type": "code",
   "execution_count": null,
   "metadata": {},
   "outputs": [],
   "source": [
    "ig_data.count_documents({})"
   ]
  },
  {
   "cell_type": "markdown",
   "metadata": {},
   "source": [
    "# Setup api key from local file in a python environment"
   ]
  },
  {
   "cell_type": "code",
   "execution_count": null,
   "metadata": {},
   "outputs": [],
   "source": [
    "with open('.secrets/igdb-api-key') as f:\n",
    "    api_key = f.read().strip()\n"
   ]
  },
  {
   "cell_type": "markdown",
   "metadata": {},
   "source": [
    "# Prepare variables. url, api_key, and years 2007-2018 in unix format"
   ]
  },
  {
   "cell_type": "code",
   "execution_count": null,
   "metadata": {},
   "outputs": [],
   "source": [
    "url = \"https://api-v3.igdb.com/games\"\n",
    "headers = {'user-key': api_key}\n",
    "\n",
    "dates = [[1167609600, 1199059200], [1199145600,1230681600], [1230768000,1262217600],\n",
    "        [1262304000,1293753600], [1293840000,1325289600], [1325376000, 1356912000],\n",
    "        [1356998400, 1388448000], [1388534400, 1419984000], [1420070400, 1451520000],\n",
    "        [1451606400, 1483142400], [1485820800,1514678400], [1514764800,1546214400]]"
   ]
  },
  {
   "cell_type": "markdown",
   "metadata": {},
   "source": [
    "Sends a query for top 50 most popular games, and then repeat 4 times for each year.\n",
    "The resluts would be the top 200 games in each year."
   ]
  },
  {
   "cell_type": "code",
   "execution_count": null,
   "metadata": {},
   "outputs": [],
   "source": [
    "\n",
    "for year in dates:\n",
    "    offsets = [0, 50, 100, 150]\n",
    "    for offset in offsets:\n",
    "        query = {'fields': f\"\"\"*; \\\n",
    "              where themes != (42) & first_release_date > {year[0]} & first_release_date < {year[1]}; \\\n",
    "              sort popularity desc; \\\n",
    "              limit: 50; \\\n",
    "              offset: {offset}\"\"\"}\n",
    "        result = requests.get(url, headers=headers, params=query)\n",
    "        ig_data.insert_many(result.json())"
   ]
  },
  {
   "cell_type": "markdown",
   "metadata": {},
   "source": [
    "# Load dataframe and clean it from null resluts. And using only two features, generes and themes."
   ]
  },
  {
   "cell_type": "code",
   "execution_count": null,
   "metadata": {},
   "outputs": [],
   "source": [
    "df = pd.DataFrame(ig_data.find())"
   ]
  },
  {
   "cell_type": "code",
   "execution_count": null,
   "metadata": {},
   "outputs": [],
   "source": [
    "clean_df = df[['genres', 'themes']]"
   ]
  },
  {
   "cell_type": "code",
   "execution_count": null,
   "metadata": {},
   "outputs": [],
   "source": [
    "clean_df.dropna(inplace=True)"
   ]
  },
  {
   "cell_type": "code",
   "execution_count": null,
   "metadata": {},
   "outputs": [],
   "source": [
    "def change_genre(values):\n",
    "    new_list = []\n",
    "    for i in values:\n",
    "        new_list.append('genre' + str(i))\n",
    "    return new_list\n",
    "def change_theme(values):\n",
    "    new_list = []\n",
    "    for i in values:\n",
    "        new_list.append('theme' + str(i))\n",
    "    return new_list"
   ]
  },
  {
   "cell_type": "markdown",
   "metadata": {},
   "source": [
    "The default values are stored as lists of numbers, such as [1,3,6,4] each number represents a genre or theme code. It will convert to strings of ['genre1', 'genre4'] for use in one hot encoding later"
   ]
  },
  {
   "cell_type": "code",
   "execution_count": null,
   "metadata": {},
   "outputs": [],
   "source": [
    "clean_df.genres = clean_df.genres.apply(change_genre)\n",
    "clean_df.themes = clean_df.themes.apply(change_theme)"
   ]
  },
  {
   "cell_type": "code",
   "execution_count": null,
   "metadata": {},
   "outputs": [],
   "source": [
    "clean_df.head()"
   ]
  },
  {
   "cell_type": "markdown",
   "metadata": {},
   "source": [
    "# Visualize the timeline of releas dates"
   ]
  },
  {
   "cell_type": "code",
   "execution_count": null,
   "metadata": {},
   "outputs": [],
   "source": [
    "import matplotlib.pyplot as plt\n",
    "from datetime import datetime"
   ]
  },
  {
   "cell_type": "code",
   "execution_count": null,
   "metadata": {},
   "outputs": [],
   "source": [
    "df_release = pd.to_datetime(df['first_release_date'], origin='unix', unit='s')"
   ]
  },
  {
   "cell_type": "code",
   "execution_count": null,
   "metadata": {},
   "outputs": [],
   "source": [
    "plt.hist(df_release, bins=150);"
   ]
  },
  {
   "cell_type": "markdown",
   "metadata": {},
   "source": [
    "# Split the dataset for testing, and one hot encode the features"
   ]
  },
  {
   "cell_type": "code",
   "execution_count": null,
   "metadata": {},
   "outputs": [],
   "source": [
    "from sklearn.model_selection import train_test_split\n",
    "\n",
    "X_train, X_test, y_train, y_test = train_test_split(clean_df['themes'], clean_df['genres'])"
   ]
  },
  {
   "cell_type": "code",
   "execution_count": null,
   "metadata": {},
   "outputs": [],
   "source": [
    "from sklearn.preprocessing import MultiLabelBinarizer\n",
    "\n",
    "mlb_genres = MultiLabelBinarizer()\n",
    "mlb_themes = MultiLabelBinarizer()\n",
    "\n",
    "\n",
    "y_train_binarizered = pd.DataFrame(mlb_genres.fit_transform(y_train), columns=mlb_genres.classes_)\n",
    "X_train_binarizered = pd.DataFrame(mlb_themes.fit_transform(X_train), columns=mlb_themes.classes_)"
   ]
  },
  {
   "cell_type": "markdown",
   "metadata": {},
   "source": [
    "# Fit RandomForest on traindata and make a prediction on test data"
   ]
  },
  {
   "cell_type": "code",
   "execution_count": null,
   "metadata": {},
   "outputs": [],
   "source": [
    "from sklearn.ensemble import RandomForestClassifier\n",
    "\n",
    "rfc = RandomForestClassifier()"
   ]
  },
  {
   "cell_type": "code",
   "execution_count": null,
   "metadata": {},
   "outputs": [],
   "source": [
    "rfc.fit(X_train_binarizered, y_train_binarizered)"
   ]
  },
  {
   "cell_type": "code",
   "execution_count": null,
   "metadata": {},
   "outputs": [],
   "source": [
    "y_test_binarizered = pd.DataFrame(mlb_genres.transform(y_test), columns=mlb_genres.classes_)\n",
    "X_test_binarizered = pd.DataFrame(mlb_themes.transform(X_test), columns=mlb_themes.classes_)"
   ]
  },
  {
   "cell_type": "code",
   "execution_count": null,
   "metadata": {},
   "outputs": [],
   "source": [
    "rfc.predict(X_test_binarizered)"
   ]
  },
  {
   "cell_type": "markdown",
   "metadata": {},
   "source": [
    "# See results of the model built"
   ]
  },
  {
   "cell_type": "code",
   "execution_count": null,
   "metadata": {},
   "outputs": [],
   "source": [
    "from sklearn.metrics import classification_report"
   ]
  },
  {
   "cell_type": "code",
   "execution_count": null,
   "metadata": {},
   "outputs": [],
   "source": [
    "print(classification_report(y_test_binarizered, rfc.predict(X_test_binarizered)))"
   ]
  }
 ],
 "metadata": {
  "kernelspec": {
   "display_name": "Python 3",
   "language": "python",
   "name": "python3"
  },
  "language_info": {
   "codemirror_mode": {
    "name": "ipython",
    "version": 3
   },
   "file_extension": ".py",
   "mimetype": "text/x-python",
   "name": "python",
   "nbconvert_exporter": "python",
   "pygments_lexer": "ipython3",
   "version": "3.7.3"
  }
 },
 "nbformat": 4,
 "nbformat_minor": 2
}
